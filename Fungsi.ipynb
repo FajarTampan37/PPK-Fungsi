{
 "cells": [
  {
   "cell_type": "markdown",
   "id": "1e45d8e5-f498-426d-b38f-a906527b5d32",
   "metadata": {},
   "source": [
    "Algorithma 4.1"
   ]
  },
  {
   "cell_type": "code",
   "execution_count": 1,
   "id": "2ccc7f4b-41ad-4294-8ef3-722a6b24d903",
   "metadata": {},
   "outputs": [],
   "source": [
    "def kali(a,b):\n",
    "        c=a*b\n",
    "        return c # mengembalikan nilai ke baris pemanggil"
   ]
  },
  {
   "cell_type": "code",
   "execution_count": 2,
   "id": "d301bd4d-5af6-4cb2-867c-4ad47730a9e2",
   "metadata": {},
   "outputs": [],
   "source": [
    "def tulis(s):\n",
    "        print(s)"
   ]
  },
  {
   "cell_type": "code",
   "execution_count": 4,
   "id": "9959d382-f5c5-47c2-b398-958608b6f46c",
   "metadata": {},
   "outputs": [],
   "source": [
    "z=kali(20,6)"
   ]
  },
  {
   "cell_type": "code",
   "execution_count": 5,
   "id": "ea754612-786b-44e7-a4d4-11e07f5ff94b",
   "metadata": {},
   "outputs": [
    {
     "data": {
      "text/plain": [
       "120"
      ]
     },
     "execution_count": 5,
     "metadata": {},
     "output_type": "execute_result"
    }
   ],
   "source": [
    "z"
   ]
  },
  {
   "cell_type": "code",
   "execution_count": 6,
   "id": "56b8fb35-27af-4324-b256-eeed340f7916",
   "metadata": {},
   "outputs": [
    {
     "name": "stdout",
     "output_type": "stream",
     "text": [
      "Pemrograman Komputer I dengan Python\n"
     ]
    }
   ],
   "source": [
    "tulis('Pemrograman Komputer I dengan Python')"
   ]
  },
  {
   "cell_type": "code",
   "execution_count": 7,
   "id": "bef90248-c711-4b5a-81c4-3fb39e783100",
   "metadata": {},
   "outputs": [
    {
     "name": "stdout",
     "output_type": "stream",
     "text": [
      "120\n"
     ]
    }
   ],
   "source": [
    "tulis(z)"
   ]
  },
  {
   "cell_type": "markdown",
   "id": "3830ecf7-c540-4d2f-8103-cf8ac799fb5f",
   "metadata": {},
   "source": [
    "Algorithma 4.2"
   ]
  },
  {
   "cell_type": "code",
   "execution_count": 11,
   "id": "b1a96d82-6531-4b83-b3f4-fc95f92faad0",
   "metadata": {},
   "outputs": [],
   "source": [
    "def persentase(a,b,c):\n",
    "                def hitungPersen(x):\n",
    "                    total=a+b+c\n",
    "                    return(x*100.0)/total\n",
    "                print(\"persentase: %f\\t%f\\t%f\" %\n",
    "                      (hitungPersen(a),hitungPersen(b), hitungPersen(c)))"
   ]
  },
  {
   "cell_type": "code",
   "execution_count": 12,
   "id": "6c3232cf-8692-4e40-adf4-180d6e2366b0",
   "metadata": {},
   "outputs": [
    {
     "name": "stdout",
     "output_type": "stream",
     "text": [
      "persentase: 25.000000\t50.000000\t25.000000\n"
     ]
    }
   ],
   "source": [
    "persentase(25,50,25)"
   ]
  },
  {
   "cell_type": "code",
   "execution_count": 13,
   "id": "1ae8cbd1-aa9b-4e44-ba70-8026900326f6",
   "metadata": {},
   "outputs": [
    {
     "name": "stdout",
     "output_type": "stream",
     "text": [
      "persentase: 27.249952\t45.172480\t27.577568\n"
     ]
    }
   ],
   "source": [
    "persentase(1414,2344,1431)"
   ]
  },
  {
   "cell_type": "markdown",
   "id": "f67edcfb-bf1c-4c81-9028-c65e1a3a0c49",
   "metadata": {},
   "source": [
    "Algoritma 4.3"
   ]
  },
  {
   "cell_type": "code",
   "execution_count": 14,
   "id": "c1f9d792-1826-4048-849b-7d5d1adb5181",
   "metadata": {},
   "outputs": [],
   "source": [
    "maks = lambda a,b: a if a>b else b"
   ]
  },
  {
   "cell_type": "code",
   "execution_count": 15,
   "id": "126c40ee-9d3d-47da-b591-963eb3dede10",
   "metadata": {},
   "outputs": [
    {
     "data": {
      "text/plain": [
       "20"
      ]
     },
     "execution_count": 15,
     "metadata": {},
     "output_type": "execute_result"
    }
   ],
   "source": [
    "maks(20,6)"
   ]
  },
  {
   "cell_type": "code",
   "execution_count": 16,
   "id": "141a9a8f-df23-453a-9dc8-35fc0cd57633",
   "metadata": {},
   "outputs": [
    {
     "data": {
      "text/plain": [
       "234"
      ]
     },
     "execution_count": 16,
     "metadata": {},
     "output_type": "execute_result"
    }
   ],
   "source": [
    "maks(12,234)"
   ]
  },
  {
   "cell_type": "markdown",
   "id": "3c705f2d-c801-4c92-9f26-390418493faf",
   "metadata": {},
   "source": [
    "Algoritma 4.4"
   ]
  },
  {
   "cell_type": "code",
   "execution_count": 17,
   "id": "4869eb4b-89d6-4cdf-a8eb-531413566092",
   "metadata": {},
   "outputs": [],
   "source": [
    "def maks(a,b):\n",
    "    if a>b:\n",
    "        return a\n",
    "    else:\n",
    "        return b\n"
   ]
  },
  {
   "cell_type": "code",
   "execution_count": 18,
   "id": "293f5f41-998d-4c41-a729-b0dea32a6109",
   "metadata": {},
   "outputs": [
    {
     "data": {
      "text/plain": [
       "234"
      ]
     },
     "execution_count": 18,
     "metadata": {},
     "output_type": "execute_result"
    }
   ],
   "source": [
    "maks(123,234)"
   ]
  },
  {
   "cell_type": "code",
   "execution_count": 19,
   "id": "8a6dc802-2250-4263-aa68-537cb31aef22",
   "metadata": {},
   "outputs": [
    {
     "data": {
      "text/plain": [
       "234"
      ]
     },
     "execution_count": 19,
     "metadata": {},
     "output_type": "execute_result"
    }
   ],
   "source": [
    "maks(234,123)"
   ]
  },
  {
   "cell_type": "markdown",
   "id": "1ade21a4-92ba-4eea-afb9-bc3edaba522a",
   "metadata": {},
   "source": [
    "Algoritma 4.5"
   ]
  },
  {
   "cell_type": "code",
   "execution_count": 20,
   "id": "68eb42f3-cee1-46ec-8830-6a0e21758c12",
   "metadata": {},
   "outputs": [],
   "source": [
    "def tulis(s, gantibaris=True):\n",
    "    if not gantibaris:\n",
    "        print(s,end='')\n",
    "    else:\n",
    "        print(s)"
   ]
  },
  {
   "cell_type": "code",
   "execution_count": 21,
   "id": "f21c2a44-6358-4cba-bf66-a9dfbe9be7f3",
   "metadata": {},
   "outputs": [
    {
     "name": "stdout",
     "output_type": "stream",
     "text": [
      "Python\n"
     ]
    }
   ],
   "source": [
    "tulis('Python')"
   ]
  },
  {
   "cell_type": "code",
   "execution_count": 23,
   "id": "5bef5fc9-b9e3-431b-acec-f268654cd6f7",
   "metadata": {},
   "outputs": [
    {
     "name": "stdout",
     "output_type": "stream",
     "text": [
      "Python dan Ruby\n"
     ]
    }
   ],
   "source": [
    "tulis('Python',False);tulis(' dan Ruby')"
   ]
  },
  {
   "cell_type": "code",
   "execution_count": 24,
   "id": "75bd685e-b951-44d7-a174-92757369a69a",
   "metadata": {},
   "outputs": [
    {
     "name": "stdout",
     "output_type": "stream",
     "text": [
      "Python\n",
      "Zamrud\n"
     ]
    }
   ],
   "source": [
    "tulis('Python');tulis('Zamrud')"
   ]
  },
  {
   "cell_type": "code",
   "execution_count": null,
   "id": "d1607d01-a5a9-4428-a87b-23eb6320474e",
   "metadata": {},
   "outputs": [],
   "source": []
  }
 ],
 "metadata": {
  "kernelspec": {
   "display_name": "Python 3 (ipykernel)",
   "language": "python",
   "name": "python3"
  },
  "language_info": {
   "codemirror_mode": {
    "name": "ipython",
    "version": 3
   },
   "file_extension": ".py",
   "mimetype": "text/x-python",
   "name": "python",
   "nbconvert_exporter": "python",
   "pygments_lexer": "ipython3",
   "version": "3.10.2"
  }
 },
 "nbformat": 4,
 "nbformat_minor": 5
}
